{
 "cells": [
  {
   "cell_type": "markdown",
   "metadata": {},
   "source": [
    "# Python Programming Fundamentals\n",
    "\n",
    "This Jupyter Notebook provides a comprehensive introduction to Python programming, covering fundamental concepts from installation to advanced topics like functions and error handling. Each section includes explanations, code examples, and exercises to solidify your understanding."
   ]
  },
  {
   "cell_type": "markdown",
   "metadata": {},
   "source": [
    "## 1. Introduction to Python\n",
    "\n",
    "### Learning Outcomes:\n",
    "By the end of this section, you will be able to:\n",
    "- Understand the Python installation process.\n",
    "- Set up and configure Visual Studio Code (VS Code) for Python development.\n",
    "- Write and execute basic Python programs.\n",
    "- Understand file management within VS Code.\n",
    "- Create simple graphics and patterns using Python."
   ]
  },
  {
   "cell_type": "markdown",
   "metadata": {},
   "source": [
    "### 1.1 Understanding Installation Process\n",
    "\n",
    "Python is a versatile and widely used programming language. To start coding in Python, you first need to install the Python interpreter on your system. This process involves downloading the appropriate version for your operating system and configuring it.\n",
    "\n",
    "#### Why Install Python?\n",
    "Python is an interpreted language, meaning a program called an interpreter reads and executes your code. Without the Python interpreter installed, your computer cannot understand and run Python programs.\n",
    "\n",
    "#### Installation Steps:\n",
    "1.  **Search for Python:** Go to your preferred search engine (e.g., Google) and search for \"download Python\".\n",
    "2.  **Official Website:** The first result should typically be the official Python website: `python.org`.\n",
    "3.  **Choose Version:** Navigate to the \"Downloads\" section. Select the appropriate version for your operating system (e.g., Windows, macOS, Linux). It's generally recommended to download the latest stable version (e.g., Python 3.12.2 or newer).\n",
    "4.  **Download Installer:** Click on the \"Download\" button for the chosen version.\n",
    "5.  **Run Installer:**\n",
    "    * **Windows:** Run the downloaded `.exe` installer. **Crucially, ensure you check the box that says \"Add Python to PATH\" during the installation process.** This makes it easier to run Python from the command line.\n",
    "    * **macOS:** Run the downloaded `.pkg` installer. Follow the on-screen instructions.\n",
    "    * **Linux:** Python is often pre-installed on many Linux distributions. If not, you can install it using your distribution's package manager (e.g., `sudo apt-get install python3` on Debian/Ubuntu, `sudo yum install python3` on Fedora/RHEL).\n",
    "\n",
    "#### Verifying Installation:\n",
    "After installation, open your command prompt (Windows) or terminal (macOS/Linux) and type:\n",
    "```bash\n",
    "python --version\n",
    "# or if that doesn't work\n",
    "python3 --version\n",
    "```\n",
    "You should see the installed Python version printed, confirming a successful installation."
   ]
  },
  {
   "cell_type": "markdown",
   "metadata": {},
   "source": [
    "### 1.2 Basic Python Programming with Visual Studio Code\n",
    "\n",
    "Visual Studio Code (VS Code) is a popular, free, and open-source text editor that provides excellent support for Python development. It offers features like syntax highlighting, intelligent code completion (IntelliSense), debugging, and extensions.\n",
    "\n",
    "#### Installing VS Code:\n",
    "1.  **Download:** Go to the official VS Code website: `code.visualstudio.com`.\n",
    "2.  **Install:** Download and run the installer for your operating system.\n",
    "\n",
    "#### Setting up VS Code for Python:\n",
    "1.  **Open VS Code.**\n",
    "2.  **Install Python Extension:**\n",
    "    * Click on the Extensions view icon on the sidebar (or press `Ctrl+Shift+X`).\n",
    "    * Search for \"Python\" by Microsoft.\n",
    "    * Click \"Install\". This extension provides rich support for Python development.\n",
    "3.  **Select Python Interpreter:**\n",
    "    * Open the Command Palette (`Ctrl+Shift+P` or `Cmd+Shift+P`).\n",
    "    * Type \"Python: Select Interpreter\".\n",
    "    * Choose the Python interpreter you installed earlier. VS Code will usually auto-detect it.\n",
    "\n",
    "#### Writing Your First Python Program:\n",
    "1.  **Create a New File:** Go to `File > New File` (or `Ctrl+N`/`Cmd+N`).\n",
    "2.  **Save the File:** Save the file as `hello_world.py`. **It's crucial to use the `.py` file extension** as it tells VS Code (and your operating system) that this is a Python script, enabling syntax highlighting and other features.\n",
    "3.  **Write Code:** Type the following code into the file:\n",
    "    ```python\n",
    "    print(\"Hello, World!\")\n",
    "    ```\n",
    "4.  **Run the Code:**\n",
    "    * **From Terminal:** Open the integrated terminal in VS Code (`Ctrl+`` ` or `Cmd+`` `). Navigate to the directory where you saved `hello_world.py` (e.g., `cd path/to/your/folder`). Then type: `python hello_world.py` (or `python3 hello_world.py`).\n",
    "    * **Using Run Button:** Click the green \"Run Python File\" triangle button in the top-right corner of the editor, or right-click in the editor and select \"Run Python File in Terminal\".\n",
    "\n",
    "You should see `Hello, World!` printed in the VS Code terminal."
   ]
  },
  {
   "cell_type": "code",
   "execution_count": null,
   "metadata": {},
   "outputs": [],
   "source": [
    "# Example: Your First Python Program\n",
    "print(\"Hello, Python!\")\n",
    "\n",
    "# Using print statements with variables\n",
    "name = \"Alice\"\n",
    "age = 30\n",
    "print(f\"My name is {name} and I am {age} years old.\")\n",
    "\n",
    "# Simple multiplication of strings (string repetition)\n",
    "print(\"-\" * 20) # Prints 20 hyphens"
   ]
  },
  {
   "cell_type": "markdown",
   "metadata": {},
   "source": [
    "### 1.3 File Management and Setup in VS Code\n",
    "\n",
    "Effective file and folder organization is crucial for larger projects.\n",
    "\n",
    "#### Creating Files and Folders:\n",
    "1.  **New Folder:** In the VS Code Explorer (sidebar on the left), click the \"New Folder\" icon to create a directory for your project.\n",
    "2.  **New File:** Inside a folder, click the \"New File\" icon. Remember to always use the correct file extension (e.g., `.py` for Python, `.txt` for text).\n",
    "\n",
    "#### Importance of `.py` Extension:\n",
    "The `.py` extension is vital for:\n",
    "-   **Syntax Highlighting:** VS Code uses it to apply Python-specific coloring to your code, making it easier to read.\n",
    "-   **IntelliSense:** Enables intelligent code completion, suggestions, and error checking specific to Python.\n",
    "-   **Debugger:** Allows you to debug Python code effectively.\n",
    "-   **Interpreter Recognition:** Helps your operating system and VS Code know which interpreter to use when executing the file."
   ]
  },
  {
   "cell_type": "markdown",
   "metadata": {},
   "source": [
    "### 1.4 Executing Code in VS Code\n",
    "\n",
    "Once you have written your Python code, you need to execute it to see its output or functionality.\n",
    "\n",
    "#### Ways to Run Python Code:\n",
    "1.  **Run Python File button:** The most common way. Click the green triangle button in the top right of the editor.\n",
    "2.  **Right-click in editor:** Right-click anywhere in the code editor and select \"Run Python File in Terminal\" or \"Run Current File in Python Interactive Window\".\n",
    "3.  **Integrated Terminal:** Open `View > Terminal` (`Ctrl+`` ` or `Cmd+`` `), navigate to your file's directory using `cd`, and then run `python your_file_name.py`.\n",
    "\n",
    "#### Saving Files:\n",
    "It's crucial to save your file (`Ctrl+S` or `Cmd+S`) before running it, especially after making changes. If you don't save, the interpreter will execute the old, unsaved version of your code, leading to confusion when your changes don't appear to take effect."
   ]
  },
  {
   "cell_type": "markdown",
   "metadata": {},
   "source": [
    "### 1.5 Creating Simple Graphics and Patterns\n",
    "\n",
    "Python can be used to create simple text-based patterns and graphics using print statements and string manipulation.\n",
    "\n",
    "#### Learning Outcomes:\n",
    "- Gain the ability to create simple patterns and graphics (e.g., printing the letter \"H\" or an arrow using `*` symbols)."
   ]
  },
  {
   "cell_type": "code",
   "execution_count": null,
   "metadata": {},
   "outputs": [],
   "source": [
    "# Example: Printing the letter 'H'\n",
    "print(\"* *\")\n",
    "print(\"* *\")\n",
    "print(\"*****\")\n",
    "print(\"* *\")\n",
    "print(\"* *\")\n",
    "\n",
    "print(\"\\n\") # Newline for separation\n",
    "\n",
    "# Example: Printing an arrow\n",
    "print(\"  *\")\n",
    "print(\" ***\")\n",
    "print(\"*****\")\n",
    "print(\"  *\")\n",
    "print(\"  *\")"
   ]
  },
  {
   "cell_type": "markdown",
   "metadata": {},
   "source": [
    "---"
   ]
  },
  {
   "cell_type": "markdown",
   "metadata": {},
   "source": [
    "## 2. Python Basics: Variables, Strings, and Arithmetic Operations\n",
    "\n",
    "### Learning Outcomes:\n",
    "By the end of this section, you will be able to:\n",
    "- Define and use variables in programming.\n",
    "- Understand different types of variables (integers, floats, booleans, strings).\n",
    "- Assign values to variables and print their content.\n",
    "- Understand how overriding variables affects program output.\n",
    "- Explore how to use strings and string concatenation.\n",
    "- Perform basic arithmetic operations and understand operator precedence.\n",
    "- Take input from users.\n",
    "- Convert between different data types (Type Casting).\n",
    "- Understand the concept of booleans and use them in conditional statements."
   ]
  },
  {
   "cell_type": "markdown",
   "metadata": {},
   "source": [
    "### 2.1 Understanding Variables\n",
    "\n",
    "Variables are fundamental to programming. They are symbolic names that refer to values stored in memory. Think of them as containers for information that you can use and manipulate in your code."
   ]
  },
  {
   "cell_type": "code",
   "execution_count": null,
   "metadata": {},
   "outputs": [],
   "source": [
    "# Defining and using variables\n",
    "x = 10         # x is an integer\n",
    "name = \"Python\" # name is a string\n",
    "pi = 3.14159   # pi is a float\n",
    "is_active = True # is_active is a boolean\n",
    "\n",
    "# Printing variable content\n",
    "print(f\"Value of x: {x}\")\n",
    "print(f\"Value of name: {name}\")\n",
    "print(f\"Value of pi: {pi}\")\n",
    "print(f\"Value of is_active: {is_active}\")\n",
    "\n",
    "# Understanding different types of variables\n",
    "print(f\"Type of x: {type(x)}\")\n",
    "print(f\"Type of name: {type(name)}\")\n",
    "print(f\"Type of pi: {type(pi)}\")\n",
    "print(f\"Type of is_active: {type(is_active)}\")\n",
    "\n",
    "# Overriding variables\n",
    "score = 100\n",
    "print(f\"Initial score: {score}\")\n",
    "score = 150 # The old value (100) is now lost\n",
    "print(f\"Updated score: {score}\")"
   ]
  },
  {
   "cell_type": "markdown",
   "metadata": {},
   "source": [
    "### 2.2 Working with Strings\n",
    "\n",
    "Strings are sequences of characters, used to represent text. In Python, strings are immutable, meaning once created, their content cannot be changed. However, you can create new strings based on existing ones."
   ]
  },
  {
   "cell_type": "code",
   "execution_count": null,
   "metadata": {},
   "outputs": [],
   "source": [
    "# Defining strings\n",
    "greeting = \"Hello\"\n",
    "language = 'Python'\n",
    "multi_line_string = \"\"\"This is a\n",
    "multi-line string.\n",
    "\"\"\"\n",
    "print(greeting)\n",
    "print(language)\n",
    "print(multi_line_string)\n",
    "\n",
    "# String concatenation (joining strings)\n",
    "full_greeting = greeting + \" \" + language + \"!\"\n",
    "print(full_greeting)\n",
    "\n",
    "# String repetition\n",
    "separator = \"*\" * 10\n",
    "print(separator)\n",
    "\n",
    "# Printing variables within strings (f-strings - formatted string literals)\n",
    "item = \"apple\"\n",
    "count = 5\n",
    "message = f\"I have {count} {item}s.\"\n",
    "print(message)\n",
    "\n",
    "# Basic string methods (not fully covered, but good to know for a quick topic mention)\n",
    "text = \"Python Programming\"\n",
    "print(f\"Uppercase: {text.upper()}\")\n",
    "print(f\"Lowercase: {text.lower()}\")\n",
    "print(f\"Replaced: {text.replace('Programming', 'Development')}\")\n",
    "print(f\"Starts with 'P': {text.startswith('P')}\")\n",
    "print(f\"Ends with 'ing': {text.endswith('ing')}\")"
   ]
  },
  {
   "cell_type": "markdown",
   "metadata": {},
   "source": [
    "### 2.3 Arithmetic Operations\n",
    "\n",
    "Python supports all standard arithmetic operations. Understanding these is crucial for performing calculations in your programs."
   ]
  },
  {
   "cell_type": "code",
   "execution_count": null,
   "metadata": {},
   "outputs": [],
   "source": [
    "# Basic arithmetic operations\n",
    "a = 15\n",
    "b = 4\n",
    "\n",
    "print(f\"a + b = {a + b} (Addition)\")\n",
    "print(f\"a - b = {a - b} (Subtraction)\")\n",
    "print(f\"a * b = {a * b} (Multiplication)\")\n",
    "print(f\"a / b = {a / b} (Division - always float result)\")\n",
    "print(f\"a // b = {a // b} (Integer Division - floor division)\")\n",
    "print(f\"a % b = {a % b} (Modulo - remainder of division)\")\n",
    "print(f\"a ** b = {a ** b} (Exponentiation - a to the power of b)\")\n",
    "\n",
    "# Mathematical expressions and operator precedence\n",
    "# PEMDAS/BODMAS: Parentheses/Brackets, Exponents/Orders, Multiplication/Division, Addition/Subtraction\n",
    "\n",
    "result1 = 5 + 3 * 2 # Multiplication before addition\n",
    "print(f\"5 + 3 * 2 = {result1}\") # Expected: 11 (3*2=6, then 5+6=11)\n",
    "\n",
    "result2 = (5 + 3) * 2 # Parentheses change precedence\n",
    "print(f\"(5 + 3) * 2 = {result2}\") # Expected: 16 (5+3=8, then 8*2=16)\n",
    "\n",
    "result3 = 10 / 2 + 3 ** 2 # Exponentiation, then division, then addition\n",
    "print(f\"10 / 2 + 3 ** 2 = {result3}\") # Expected: 14.0 (3**2=9, 10/2=5.0, then 5.0+9=14.0)"
   ]
  },
  {
   "cell_type": "markdown",
   "metadata": {},
   "source": [
    "### 2.4 Taking Input from Users\n",
    "\n",
    "The `input()` function allows your program to interact with the user by pausing execution and waiting for the user to type something and press Enter."
   ]
  },
  {
   "cell_type": "code",
   "execution_count": null,
   "metadata": {},
   "outputs": [],
   "source": [
    "# Taking string input\n",
    "user_name = input(\"Enter your name: \")\n",
    "print(f\"Hello, {user_name}!\")\n",
    "\n",
    "# IMPORTANT: input() always returns a string\n",
    "raw_age = input(\"Enter your age: \")\n",
    "print(f\"You entered: {raw_age}, Type: {type(raw_age)}\")\n",
    "\n",
    "# If you try to do arithmetic with a string, it will lead to an error\n",
    "# For example, raw_age + 10 would raise a TypeError if raw_age is '30'\n",
    "# You need to convert it first (see Type Conversion below)."
   ]
  },
  {
   "cell_type": "markdown",
   "metadata": {},
   "source": [
    "### 2.5 Type Conversion (Type Casting)\n",
    "\n",
    "Since `input()` returns a string, you often need to convert the input to a different data type (like integer or float) to perform numerical operations. This process is called type casting."
   ]
  },
  {
   "cell_type": "code",
   "execution_count": null,
   "metadata": {},
   "outputs": [],
   "source": [
    "# Converting string to integer\n",
    "str_num = \"123\"\n",
    "int_num = int(str_num)\n",
    "print(f\"String: '{str_num}', Type: {type(str_num)}\")\n",
    "print(f\"Integer: {int_num}, Type: {type(int_num)}\")\n",
    "\n",
    "# Converting string to float\n",
    "str_float = \"123.45\"\n",
    "float_num = float(str_float)\n",
    "print(f\"String: '{str_float}', Type: {type(str_float)}\")\n",
    "print(f\"Float: {float_num}, Type: {type(float_num)}\")\n",
    "\n",
    "# Example with user input\n",
    "try:\n",
    "    age_str = input(\"Enter your age (as a number): \")\n",
    "    age_int = int(age_str)\n",
    "    print(f\"In 5 years, you will be {age_int + 5} years old.\")\n",
    "except ValueError:\n",
    "    print(\"Invalid input. Please enter a valid number for your age.\")\n",
    "\n",
    "# Converting numbers back to strings for printing (often implicitly done by f-strings)\n",
    "my_number = 42\n",
    "my_string = str(my_number)\n",
    "print(f\"Number: {my_number}, Type: {type(my_number)}\")\n",
    "print(f\"String: '{my_string}', Type: {type(my_string)}\")"
   ]
  },
  {
   "cell_type": "markdown",
   "metadata": {},
   "source": [
    "### 2.6 Working with Booleans\n",
    "\n",
    "Booleans represent one of two values: `True` or `False`. They are fundamental for making decisions and controlling the flow of your program."
   ]
  },
  {
   "cell_type": "code",
   "execution_count": null,
   "metadata": {},
   "outputs": [],
   "source": [
    "# Defining boolean variables\n",
    "is_sunny = True\n",
    "is_raining = False\n",
    "\n",
    "print(f\"Is it sunny? {is_sunny}\")\n",
    "print(f\"Is it raining? {is_raining}\")\n",
    "print(f\"Type of is_sunny: {type(is_sunny)}\")\n",
    "\n",
    "# Booleans in conditional statements (introduced here, covered more in Control Flow)\n",
    "if is_sunny:\n",
    "    print(\"It's a good day for outdoor activities!\")\n",
    "else:\n",
    "    print(\"Might need an umbrella.\")\n",
    "\n",
    "# Comparison operators return booleans\n",
    "x = 10\n",
    "y = 20\n",
    "print(f\"Is x greater than y? {x > y}\")\n",
    "print(f\"Is x equal to 10? {x == 10}\")\n",
    "print(f\"Is x not equal to y? {x != y}\")"
   ]
  },
  {
   "cell_type": "markdown",
   "metadata": {},
   "source": [
    "---"
   ]
  },
  {
   "cell_type": "markdown",
   "metadata": {},
   "source": [
    "## 3. Operators\n",
    "\n",
    "### Learning Outcomes:\n",
    "By the end of this section, you will be able to:\n",
    "- Perform basic arithmetic operations in Python using various operators.\n",
    "- Comprehend operator precedence and use parentheses to modify it.\n",
    "- Utilize built-in math functions and discover additional functions in the `math` module."
   ]
  },
  {
   "cell_type": "markdown",
   "metadata": {},
   "source": [
    "### 3.1 Understanding Arithmetic Operations in Python\n",
    "\n",
    "Operators are special symbols that perform operations on values and variables. Python provides various types of operators, but arithmetic operators are the most common for numerical computations."
   ]
  },
  {
   "cell_type": "code",
   "execution_count": null,
   "metadata": {},
   "outputs": [],
   "source": [
    "# Variables for demonstration\n",
    "num1 = 10\n",
    "num2 = 3\n",
    "\n",
    "# 1. Addition (+)\n",
    "print(f\"Addition: {num1} + {num2} = {num1 + num2}\")\n",
    "\n",
    "# 2. Subtraction (-)\n",
    "print(f\"Subtraction: {num1} - {num2} = {num1 - num2}\")\n",
    "\n",
    "# 3. Multiplication (*)\n",
    "print(f\"Multiplication: {num1} * {num2} = {num1 * num2}\")\n",
    "\n",
    "# 4. Division (/)\n",
    "# Always returns a float, even if the result is a whole number.\n",
    "print(f\"Division: {num1} / {num2} = {num1 / num2}\") # Example: 10 / 3 gives 3.333...\n",
    "print(f\"Division: 10 / 2 = {10 / 2}\") # Example: 10 / 2 gives 5.0 (float)\n",
    "\n",
    "# 5. Floor Division (//)\n",
    "# Returns the integer part of the division, discarding the fractional part.\n",
    "print(f\"Floor Division: {num1} // {num2} = {num1 // num2}\") # Example: 10 // 3 gives 3\n",
    "print(f\"Floor Division: 10 // 2 = {10 // 2}\") # Example: 10 // 2 gives 5\n",
    "\n",
    "# 6. Modulus (%)\n",
    "# Returns the remainder of the division.\n",
    "print(f\"Modulus: {num1} % {num2} = {num1 % num2}\") # Example: 10 % 3 gives 1 (10 = 3*3 + 1)\n",
    "print(f\"Modulus: 10 % 2 = {10 % 2}\") # Example: 10 % 2 gives 0\n",
    "\n",
    "# 7. Exponentiation (**)\n",
    "# Raises the first number to the power of the second number.\n",
    "print(f\"Exponentiation: {num1} ** {num2} = {num1 ** num2}\") # Example: 10 ** 3 = 1000\n",
    "print(f\"Exponentiation: 2 ** 4 = {2 ** 4}\") # Example: 2 * 2 * 2 * 2 = 16"
   ]
  },
  {
   "cell_type": "markdown",
   "metadata": {},
   "source": [
    "#### Assignment Operators (Shorthand)\n",
    "Python also provides shorthand assignment operators for common arithmetic operations, which combine an operation and an assignment (`=`)."
   ]
  },
  {
   "cell_type": "code",
   "execution_count": null,
   "metadata": {},
   "outputs": [],
   "source": [
    "x = 5\n",
    "print(f\"Initial x: {x}\")\n",
    "\n",
    "x += 3 # Equivalent to x = x + 3\n",
    "print(f\"x after x += 3: {x}\") # x is now 8\n",
    "\n",
    "x -= 2 # Equivalent to x = x - 2\n",
    "print(f\"x after x -= 2: {x}\") # x is now 6\n",
    "\n",
    "x *= 4 # Equivalent to x = x * 4\n",
    "print(f\"x after x *= 4: {x}\") # x is now 24\n",
    "\n",
    "x /= 3 # Equivalent to x = x / 3\n",
    "print(f\"x after x /= 3: {x}\") # x is now 8.0\n",
    "\n",
    "x //= 2 # Equivalent to x = x // 2\n",
    "print(f\"x after x //= 2: {x}\") # x is now 4.0\n",
    "\n",
    "x %= 3 # Equivalent to x = x % 3\n",
    "print(f\"x after x %= 3: {x}\") # x is now 1.0\n",
    "\n",
    "y = 2\n",
    "y **= 3 # Equivalent to y = y ** 3\n",
    "print(f\"y after y **= 3: {y}\") # y is now 8"
   ]
  },
  {
   "cell_type": "markdown",
   "metadata": {},
   "source": [
    "### 3.2 Comprehending Operator Precedence\n",
    "\n",
    "Operator precedence determines the order in which operations are performed in an expression. Python follows a similar order to standard mathematics, often remembered by the acronym PEMDAS or BODMAS.\n",
    "\n",
    "#### Order of Operations (Highest to Lowest Precedence for common arithmetic):\n",
    "1.  **Parentheses/Brackets `()`**: Expressions inside parentheses are evaluated first.\n",
    "2.  **Exponentiation `**`**\n",
    "3.  **Multiplication `*`**, **Division `/`**, **Floor Division `//`**, **Modulus `%`**: These have equal precedence and are evaluated from left to right.\n",
    "4.  **Addition `+`**, **Subtraction `-`**: These have equal precedence and are evaluated from left to right.\n",
    "\n",
    "#### Examples:"
   ]
  },
  {
   "cell_type": "code",
   "execution_count": null,
   "metadata": {},
   "outputs": [],
   "source": [
    "# Example 1: Multiplication before Addition\n",
    "print(f\"Result of 2 + 3 * 4: {2 + 3 * 4}\") # Expected: 2 + 12 = 14\n",
    "\n",
    "# Example 2: Using Parentheses to change precedence\n",
    "print(f\"Result of (2 + 3) * 4: {(2 + 3) * 4}\") # Expected: 5 * 4 = 20\n",
    "\n",
    "# Example 3: Mixed operations\n",
    "print(f\"Result of 10 - 4 / 2 + 3 ** 2: {10 - 4 / 2 + 3 ** 2}\")\n",
    "# Step-by-step evaluation:\n",
    "# 1. 3 ** 2 = 9 (Exponentiation)\n",
    "# 2. 4 / 2 = 2.0 (Division)\n",
    "# 3. 10 - 2.0 = 8.0 (Subtraction - left to right)\n",
    "# 4. 8.0 + 9 = 17.0 (Addition - left to right)\n",
    "# Expected: 17.0\n",
    "\n",
    "# Another example with multiple operators\n",
    "complex_expression = 20 / 4 + (5 * 2) - 1\n",
    "print(f\"Result of 20 / 4 + (5 * 2) - 1: {complex_expression}\")\n",
    "# Step-by-step evaluation:\n",
    "# 1. (5 * 2) = 10 (Parentheses first)\n",
    "# 2. 20 / 4 = 5.0 (Division)\n",
    "# 3. 5.0 + 10 = 15.0 (Addition)\n",
    "# 4. 15.0 - 1 = 14.0 (Subtraction)\n",
    "# Expected: 14.0"
   ]
  },
  {
   "cell_type": "markdown",
   "metadata": {},
   "source": [
    "### 3.3 Exploring Math Functions\n",
    "\n",
    "Python offers several built-in functions for common mathematical operations, and for more advanced functions, you can use the `math` module."
   ]
  },
  {
   "cell_type": "code",
   "execution_count": null,
   "metadata": {},
   "outputs": [],
   "source": [
    "# Built-in Math Functions\n",
    "num = -7.5\n",
    "\n",
    "# abs(): Returns the absolute value of a number.\n",
    "print(f\"Absolute value of {num}: {abs(num)}\") # Expected: 7.5\n",
    "\n",
    "# round(): Rounds a number to the nearest integer or to a specified number of decimal places.\n",
    "print(f\"Round {3.7}: {round(3.7)}\") # Expected: 4\n",
    "print(f\"Round {3.2}: {round(3.2)}\") # Expected: 3\n",
    "print(f\"Round {2.5}: {round(2.5)}\") # Expected: 2 (rounds to the nearest even number in Python 3 for .5)\n",
    "print(f\"Round {3.14159} to 2 decimal places: {round(3.14159, 2)}\") # Expected: 3.14"
   ]
  },
  {
   "cell_type": "code",
   "execution_count": null,
   "metadata": {},
   "outputs": [],
   "source": [
    "# The 'math' module\n",
    "# To use functions from the math module, you first need to import it.\n",
    "import math\n",
    "\n",
    "print(\"\\n--- Functions from the math module ---\")\n",
    "\n",
    "x = 16\n",
    "y = 2.7\n",
    "angle_rad = math.pi / 2 # math.pi is the value of Pi\n",
    "\n",
    "# math.sqrt(): Returns the square root of a number.\n",
    "print(f\"Square root of {x}: {math.sqrt(x)}\") # Expected: 4.0\n",
    "\n",
    "# math.pow(base, exponent): Equivalent to base ** exponent\n",
    "print(f\"2 to the power of 3 (math.pow): {math.pow(2, 3)}\") # Expected: 8.0\n",
    "\n",
    "# math.ceil(): Returns the smallest integer greater than or equal to x (rounds up).\n",
    "print(f\"Ceiling of {y}: {math.ceil(y)}\") # Expected: 3\n",
    "print(f\"Ceiling of 7.0: {math.ceil(7.0)}\") # Expected: 7\n",
    "\n",
    "# math.floor(): Returns the largest integer less than or equal to x (rounds down).\n",
    "print(f\"Floor of {y}: {math.floor(y)}\") # Expected: 2\n",
    "print(f\"Floor of 7.9: {math.floor(7.9)}\") # Expected: 7\n",
    "\n",
    "# Trigonometric functions (angles in radians)\n",
    "# math.sin(): Returns the sine of x (in radians).\n",
    "print(f\"Sine of {angle_rad:.2f} radians (90 degrees): {math.sin(angle_rad)}\") # Expected: 1.0\n",
    "\n",
    "# math.cos(): Returns the cosine of x (in radians).\n",
    "print(f\"Cosine of {angle_rad:.2f} radians (90 degrees): {math.cos(angle_rad):.2f}\") # Expected: 0.00\n",
    "\n",
    "# math.tan(): Returns the tangent of x (in radians).\n",
    "print(f\"Tangent of {math.pi / 4:.2f} radians (45 degrees): {math.tan(math.pi / 4):.2f}\") # Expected: 1.00\n",
    "\n",
    "# math.log(): Returns the natural logarithm of x (base e).\n",
    "print(f\"Natural log of 10: {math.log(10):.2f}\")\n",
    "\n",
    "# math.log10(): Returns the base-10 logarithm of x.\n",
    "print(f\"Base-10 log of 100: {math.log10(100):.2f}\") # Expected: 2.00\n",
    "\n",
    "# math.exp(): Returns e raised to the power of x.\n",
    "print(f\"e to the power of 1: {math.exp(1):.2f}\") # Expected: 2.72 (Euler's number)"
   ]
  },
  {
   "cell_type": "markdown",
   "metadata": {},
   "source": [
    "---"
   ]
  },
  {
   "cell_type": "markdown",
   "metadata": {},
   "source": [
    "## 4. Python Control Flow (Conditional Statements)\n",
    "\n",
    "### Learning Outcomes:\n",
    "By the end of this section, you will be able to:\n",
    "- Understand and implement `if`, `elif`, and `else` statements.\n",
    "- Use comparison operators to create conditions.\n",
    "- Combine conditions using logical operators (`and`, `or`, `not`)."
   ]
  },
  {
   "cell_type": "markdown",
   "metadata": {},
   "source": [
    "### 4.1 Conditional Statements (`if`, `elif`, `else`)\n",
    "\n",
    "Control flow statements allow your program to make decisions and execute different blocks of code based on certain conditions. The `if`, `elif` (else if), and `else` statements are the primary tools for this."
   ]
  },
  {
   "cell_type": "code",
   "execution_count": null,
   "metadata": {},
   "outputs": [],
   "source": [
    "# Simple if statement\n",
    "temperature = 25\n",
    "if temperature > 20:\n",
    "    print(\"It's a warm day!\")\n",
    "\n",
    "# if-else statement\n",
    "age = 17\n",
    "if age >= 18:\n",
    "    print(\"You are an adult.\")\n",
    "else:\n",
    "    print(\"You are a minor.\")\n",
    "\n",
    "# if-elif-else chain\n",
    "score = 85\n",
    "if score >= 90:\n",
    "    print(\"Grade: A\")\n",
    "elif score >= 80: # This condition is checked only if the first one (score >= 90) is False\n",
    "    print(\"Grade: B\")\n",
    "elif score >= 70:\n",
    "    print(\"Grade: C\")\n",
    "else:\n",
    "    print(\"Grade: F\")\n",
    "\n",
    "# Taking user input for conditional logic\n",
    "try:\n",
    "    num = int(input(\"Enter an integer: \"))\n",
    "    if num > 0:\n",
    "        print(\"Positive number.\")\n",
    "    elif num < 0:\n",
    "        print(\"Negative number.\")\n",
    "    else:\n",
    "        print(\"Zero.\")\n",
    "except ValueError:\n",
    "    print(\"Invalid input. Please enter a whole number.\")"
   ]
  },
  {
   "cell_type": "markdown",
   "metadata": {},
   "source": [
    "### 4.2 Comparison Operators\n",
    "\n",
    "Comparison operators are used to compare two values and return a boolean result (`True` or `False`). These are essential for defining conditions in `if` statements."
   ]
  },
  {
   "cell_type": "code",
   "execution_count": null,
   "metadata": {},
   "outputs": [],
   "source": [
    "a = 10\n",
    "b = 20\n",
    "\n",
    "print(f\"a == b: {a == b}\") # Equal to (False)\n",
    "print(f\"a != b: {a != b}\") # Not equal to (True)\n",
    "print(f\"a > b: {a > b}\")  # Greater than (False)\n",
    "print(f\"a < b: {a < b}\")  # Less than (True)\n",
    "print(f\"a >= b: {a >= b}\") # Greater than or equal to (False)\n",
    "print(f\"a <= b: {a <= b}\") # Less than or equal to (True)\n",
    "\n",
    "name1 = \"Alice\"\n",
    "name2 = \"alice\"\n",
    "print(f\"name1 == name2 (case-sensitive): {name1 == name2}\") # False\n",
    "print(f\"name1.lower() == name2.lower() (case-insensitive): {name1.lower() == name2.lower()}\") # True"
   ]
  },
  {
   "cell_type": "markdown",
   "metadata": {},
   "source": [
    "### 4.3 Logical Operators (`and`, `or`, `not`)\n",
    "\n",
    "Logical operators allow you to combine multiple conditions or negate a condition."
   ]
  },
  {
   "cell_type": "code",
   "execution_count": null,
   "metadata": {},
   "outputs": [],
   "source": [
    "has_license = True\n",
    "has_car = False\n",
    "is_raining = True\n",
    "is_weekend = False\n",
    "\n",
    "# and operator: Both conditions must be True\n",
    "if has_license and has_car:\n",
    "    print(\"You can drive.\")\n",
    "else:\n",
    "    print(\"You cannot drive (missing license or car).\")\n",
    "\n",
    "# or operator: At least one condition must be True\n",
    "if is_raining or is_weekend:\n",
    "    print(\"Stay home and relax!\")\n",
    "else:\n",
    "    print(\"Go out and enjoy!\")\n",
    "\n",
    "# not operator: Reverses the boolean value of a condition\n",
    "if not is_raining:\n",
    "    print(\"It's not raining, go for a walk!\")\n",
    "else:\n",
    "    print(\"It's raining, bring an umbrella!\")\n",
    "\n",
    "# Combining logical and comparison operators\n",
    "age = 25\n",
    "salary = 60000\n",
    "\n",
    "if (age >= 18 and age < 65) and (salary > 50000):\n",
    "    print(\"Eligible for a premium credit card.\")\n",
    "else:\n",
    "    print(\"Not eligible for a premium credit card.\")"
   ]
  },
  {
   "cell_type": "markdown",
   "metadata": {},
   "source": [
    "---"
   ]
  },
  {
   "cell_type": "markdown",
   "metadata": {},
   "source": [
    "## 5. Functions\n",
    "\n",
    "### Learning Outcomes:\n",
    "By the end of this section, you will be able to:\n",
    "- Define and create functions using the `def` keyword.\n",
    "- Understand how to call a function.\n",
    "- Recognize the importance of functions in reducing code repetition.\n",
    "- Define parameters inside functions and pass values to them.\n",
    "- Handle errors related to missing function parameters.\n",
    "- Use multiple parameters for flexibility.\n",
    "- Understand the concept of positional arguments and their role in function calls."
   ]
  },
  {
   "cell_type": "markdown",
   "metadata": {},
   "source": [
    "### 5.1 Understanding Functions in Python\n",
    "\n",
    "A function is a reusable block of code designed to perform a specific task. Functions help organize code, make it more readable, and reduce repetition (DRY - Don't Repeat Yourself principle)."
   ]
  },
  {
   "cell_type": "code",
   "execution_count": null,
   "metadata": {},
   "outputs": [],
   "source": [
    "# Defining a simple function\n",
    "# The 'def' keyword is used to define a function, followed by the function name and parentheses.\n",
    "# The code block inside the function must be indented.\n",
    "def greet():\n",
    "    \"\"\"This function prints a simple greeting message.\"\"\"\n",
    "    print(\"Hello, World!\")\n",
    "    print(\"Welcome to Python functions.\")\n",
    "\n",
    "# Calling a function\n",
    "# To execute the code inside a function, you call it by its name followed by parentheses.\n",
    "greet()\n",
    "print(\"\\n\")\n",
    "greet() # You can call the function multiple times"
   ]
  },
  {
   "cell_type": "markdown",
   "metadata": {},
   "source": [
    "#### Why use Functions?\n",
    "-   **Reusability:** Write code once and use it many times.\n",
    "-   **Modularity:** Break down complex problems into smaller, manageable pieces.\n",
    "-   **Readability:** Make your code easier to understand and maintain.\n",
    "-   **Reduced Redundancy:** Avoid copying and pasting the same code block multiple times."
   ]
  },
  {
   "cell_type": "markdown",
   "metadata": {},
   "source": [
    "### 5.2 Work with Function Parameters\n",
    "\n",
    "Functions can accept inputs, called **parameters** (or arguments when values are passed). Parameters allow functions to be more flexible and perform operations on different data."
   ]
  },
  {
   "cell_type": "code",
   "execution_count": null,
   "metadata": {},
   "outputs": [],
   "source": [
    "# Function with one parameter\n",
    "def greet_person(name):\n",
    "    \"\"\"This function greets a person by their given name.\"\"\"\n",
    "    print(f\"Hello, {name}!\")\n",
    "\n",
    "# Calling the function and passing values (arguments) to the parameter\n",
    "greet_person(\"Alice\")\n",
    "greet_person(\"Bob\")\n",
    "user_input_name = input(\"Enter a name to greet: \")\n",
    "greet_person(user_input_name)"
   ]
  },
  {
   "cell_type": "code",
   "execution_count": null,
   "metadata": {},
   "outputs": [],
   "source": [
    "# Function with multiple parameters\n",
    "def calculate_sum(num1, num2):\n",
    "    \"\"\"This function calculates and prints the sum of two numbers.\"\"\"\n",
    "    total = num1 + num2\n",
    "    print(f\"The sum of {num1} and {num2} is {total}.\")\n",
    "\n",
    "# Calling the function with multiple arguments\n",
    "calculate_sum(10, 5) # num1=10, num2=5\n",
    "calculate_sum(-3, 7) # num1=-3, num2=7\n",
    "\n",
    "# Positional arguments: The order of arguments matters.\n",
    "# If you swap them, the result might change or be logically incorrect for some functions.\n",
    "def describe_fruit(name, color):\n",
    "    print(f\"A {name} is typically {color}.\")\n",
    "\n",
    "describe_fruit(\"apple\", \"red\")\n",
    "describe_fruit(\"banana\", \"yellow\")"
   ]
  },
  {
   "cell_type": "markdown",
   "metadata": {},
   "source": [
    "### 5.3 Handling Error Handling in Functions (Missing Parameters)\n",
    "\n",
    "If you call a function and do not provide all the required arguments for its parameters, Python will raise a `TypeError`. This is a common error to encounter and understanding it helps in debugging."
   ]
  },
  {
   "cell_type": "code",
   "execution_count": null,
   "metadata": {},
   "outputs": [],
   "source": [
    "def power(base, exponent):\n",
    "    \"\"\"Calculates base raised to the power of exponent.\"\"\"\n",
    "    result = base ** exponent\n",
    "    print(f\"{base} raised to the power of {exponent} is {result}\")\n",
    "\n",
    "# Correct call\n",
    "power(2, 3) # Expected: 2 raised to the power of 3 is 8\n",
    "\n",
    "# Incorrect call: Missing argument for 'exponent'\n",
    "try:\n",
    "    # power(5) # Uncommenting this line will cause a TypeError\n",
    "    print(\"Attempting to call power(5) which will result in a TypeError (missing 1 required positional argument: 'exponent')\")\n",
    "except TypeError as e:\n",
    "    print(f\"Error: {e}\")\n",
    "    print(\"This error occurs because the 'exponent' argument was not provided.\")\n",
    "\n",
    "\n",
    "# Handling potential errors gracefully (using try-except block)\n",
    "def safe_divide(numerator, denominator):\n",
    "    try:\n",
    "        result = numerator / denominator\n",
    "        print(f\"Result of division: {result}\")\n",
    "    except ZeroDivisionError:\n",
    "        print(\"Error: Cannot divide by zero!\")\n",
    "    except TypeError:\n",
    "        print(\"Error: Both arguments must be numbers.\")\n",
    "    except Exception as e:\n",
    "        print(f\"An unexpected error occurred: {e}\")\n",
    "\n",
    "safe_divide(10, 2)\n",
    "safe_divide(10, 0) # ZeroDivisionError\n",
    "safe_divide(10, \"a\") # TypeError"
   ]
  },
  {
   "cell_type": "markdown",
   "metadata": {},
   "source": [
    "#### Positional Arguments vs. Keyword Arguments\n",
    "\n",
    "When calling functions, arguments can be passed in two ways:\n",
    "-   **Positional Arguments:** The arguments are assigned to parameters based on their order.\n",
    "-   **Keyword Arguments:** The arguments are assigned to parameters by explicitly naming the parameter. This allows you to pass arguments in any order."
   ]
  },
  {
   "cell_type": "code",
   "execution_count": null,
   "metadata": {},
   "outputs": [],
   "source": [
    "def describe_product(name, price, quantity):\n",
    "    print(f\"Product: {name}\")\n",
    "    print(f\"Price: ${price:.2f}\")\n",
    "    print(f\"Quantity: {quantity}\")\n",
    "    print(f\"Total value: ${price * quantity:.2f}\")\n",
    "\n",
    "# Positional arguments (order matters)\n",
    "print(\"--- Using Positional Arguments ---\")\n",
    "describe_product(\"Laptop\", 1200.50, 2)\n",
    "\n",
    "print(\"\\n--- Using Keyword Arguments ---\")\n",
    "# Keyword arguments (order does not matter, but readability improves)\n",
    "describe_product(quantity=5, name=\"Mouse\", price=25.99)\n",
    "\n",
    "# You can mix positional and keyword arguments, but positional must come first\n",
    "print(\"\\n--- Mixing Positional and Keyword Arguments ---\")\n",
    "describe_product(\"Keyboard\", 75.00, quantity=3)\n",
    "\n",
    "try:\n",
    "    # This would raise an error: positional argument follows keyword argument\n",
    "    # describe_product(quantity=3, \"Webcam\", 50.00)\n",
    "    print(\"Cannot place positional arguments after keyword arguments.\")\n",
    "except SyntaxError as e:\n",
    "    print(f\"Syntax Error: {e}\")"
   ]
  },
  {
   "cell_type": "markdown",
   "metadata": {},
   "source": [
    "### Returning Values from Functions\n",
    "\n",
    "Functions can also return values using the `return` keyword. This allows the result of a function's computation to be used in other parts of your program."
   ]
  },
  {
   "cell_type": "code",
   "execution_count": null,
   "metadata": {},
   "outputs": [],
   "source": [
    "def add_numbers(x, y):\n",
    "    \"\"\"Returns the sum of two numbers.\"\"\"\n",
    "    sum_val = x + y\n",
    "    return sum_val\n",
    "\n",
    "result = add_numbers(15, 7)\n",
    "print(f\"The sum is: {result}\")\n",
    "\n",
    "new_result = add_numbers(result, 3)\n",
    "print(f\"New sum: {new_result}\")\n",
    "\n",
    "\n",
    "def get_circle_area(radius):\n",
    "    \"\"\"Calculates the area of a circle given its radius.\"\"\"\n",
    "    if radius < 0:\n",
    "        return \"Error: Radius cannot be negative.\"\n",
    "    area = math.pi * (radius ** 2)\n",
    "    return area\n",
    "\n",
    "area1 = get_circle_area(5)\n",
    "print(f\"Area of circle with radius 5: {area1:.2f}\")\n",
    "\n",
    "area2 = get_circle_area(-2)\n",
    "print(f\"Area of circle with radius -2: {area2}\")"
   ]
  },
  {
   "cell_type": "markdown",
   "metadata": {},
   "source": [
    "---"
   ]
  },
  {
   "cell_type": "markdown",
   "metadata": {},
   "source": [
    "## Conclusion\n",
    "\n",
    "This notebook has provided a foundational understanding of Python programming, covering essential concepts. Practice these concepts regularly to build your programming proficiency."
   ]
  }
 ],
 "metadata": {
  "kernelspec": {
   "display_name": "Python 3",
   "language": "python",
   "name": "python3"
  },
  "language_info": {
   "codemirror_mode": {
    "name": "ipython",
    "version": 3
   },
   "file_extension": ".py",
   "mimetype": "text/x-python",
   "name": "python",
   "nbconvert_exporter": "python",
   "pygments_lexer": "ipython3",
   "version": "3.9.7"
  }
 },
 "nbformat": 4,
 "nbformat_minor": 4
}
