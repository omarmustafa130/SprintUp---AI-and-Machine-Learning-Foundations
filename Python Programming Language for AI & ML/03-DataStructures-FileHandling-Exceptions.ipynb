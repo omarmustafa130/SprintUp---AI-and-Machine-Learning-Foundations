{
 "cells": [
  {
   "cell_type": "markdown",
   "metadata": {},
   "source": [
    "# Python Intermediate Concepts: Files, Data Structures, and Error Handling\n",
    "\n",
    "This Jupyter Notebook provides a detailed exploration of essential Python concepts beyond the basics: File Handling, various Data Structures, and robust Exception Handling. Mastering these topics is crucial for writing efficient, organized, and fault-tolerant Python applications."
   ]
  },
  {
   "cell_type": "markdown",
   "metadata": {},
   "source": [
    "## 1. File Handling In Python\n",
    "\n",
    "### Objectives:\n",
    "By the end of this section, you will be able to:\n",
    "- Understand how to open files in Python.\n",
    "- Explain the different modes used for file handling (`r`, `w`, `a`).\n",
    "- Demonstrate how to read data from files.\n",
    "- Demonstrate how to write data to files.\n",
    "- Demonstrate how to append new content to existing files."
   ]
  },
  {
   "cell_type": "markdown",
   "metadata": {},
   "source": [
    "### 1.1 Opening a File\n",
    "\n",
    "To interact with files (read from them, write to them, or append to them), you first need to open them. Python's built-in `open()` function is used for this purpose. It returns a file object, which you can then use to perform various file operations."
   ]
  },
  {
   "cell_type": "code",
   "execution_count": null,
   "metadata": {},
   "outputs": [],
   "source": [
    "# Basic syntax for opening a file:\n",
    "# file_object = open('filename.txt', 'mode')\n",
    "\n",
    "# File Path:\n",
    "# - If the file is in the same directory as your Python script/notebook, you can directly use the filename.\n",
    "# - If the file is located elsewhere, you need to provide a complete (absolute) or relative path to the file.\n",
    "#   - Windows example: 'C:\\Users\\YourUser\\Documents\\my_file.txt'\n",
    "#   - macOS/Linux example: '/home/youruser/documents/my_file.txt'\n",
    "#   - Relative path example: 'data/input.txt' (if 'data' is a subfolder)\n",
    "\n",
    "# IMPORTANT: Always close the file using file_object.close() when you're done with it.\n",
    "# A better practice is to use the 'with' statement, which ensures the file is automatically closed.\n",
    "\n",
    "print(\"File operations will be demonstrated below using the 'with' statement.\")"
   ]
  },
  {
   "cell_type": "markdown",
   "metadata": {},
   "source": [
    "### 1.2 Modes for File Handling\n",
    "\n",
    "When opening a file, you specify a 'mode' which dictates how you intend to interact with the file. The most common modes are:\n",
    "\n",
    "-   **Read Mode (`'r'`)**: Default mode. Used to read the contents of a file. If the file does not exist, it will raise a `FileNotFoundError`.\n",
    "-   **Write Mode (`'w'`)**: Used to write (or overwrite) content to a file. If the file does not exist, it will be created. **If the file already exists, its existing content will be completely erased (overwritten) before new content is written.**\n",
    "-   **Append Mode (`'a'`)**: Used to add new content to the end of an existing file. If the file does not exist, it will be created. This mode does not overwrite existing content.\n",
    "\n",
    "Other common modes include:\n",
    "-   `'x'`: Exclusive creation mode. Creates a new file, but raises an error if the file already exists.\n",
    "-   `'b'`: Binary mode. Used for non-text files (e.g., images, audio). Combine with `r`, `w`, or `a` (e.g., `'rb'`, `'wb'`).\n",
    "-   `'+'`: Update mode. Opens a file for both reading and writing. Combine with `r`, `w`, or `a` (e.g., `'r+'`, `'w+'`, `'a+'`)."
   ]
  },
  {
   "cell_type": "markdown",
   "metadata": {},
   "source": [
    "### 1.3 Writing to Files\n",
    "\n",
    "The `write()` method is used to write a string to a file. Remember that `w` mode will overwrite existing content."
   ]
  },
  {
   "cell_type": "code",
   "execution_count": null,
   "metadata": {},
   "outputs": [],
   "source": [
    "# Example: Writing to a new file (or overwriting an existing one)\n",
    "file_name_write = \"test1.txt\"\n",
    "\n",
    "print(f\"Writing content to '{file_name_write}' in 'w' (write) mode.\")\n",
    "with open(file_name_write, 'w') as file:\n",
    "    file.write(\"Hello, this is the first line.\\n\")\n",
    "    file.write(\"This is the second line.\\n\")\n",
    "    file.write(\"Python file handling is fun!\")\n",
    "\n",
    "print(f\"Content successfully written to '{file_name_write}'.\")\n",
    "\n",
    "# You can verify the content by opening the 'test1.txt' file in your file system."
   ]
  },
  {
   "cell_type": "markdown",
   "metadata": {},
   "source": [
    "### 1.4 Reading from Files\n",
    "\n",
    "Once a file is opened in read mode (`'r'`), you can use various methods to read its content:\n",
    "\n",
    "-   **`file.read()`**: Reads the entire content of the file as a single string.\n",
    "-   **`file.readline()`**: Reads a single line from the file. Each subsequent call reads the next line.\n",
    "-   **`file.readlines()`**: Reads all lines from the file and returns them as a list of strings, where each string represents a line (including the newline character `\\n`).\n",
    "-   **Iterating line by line**: The most memory-efficient way to read large files, as it reads one line at a time."
   ]
  },
  {
   "cell_type": "code",
   "execution_count": null,
   "metadata": {},
   "outputs": [],
   "source": [
    "# Example: Reading the entire file using .read()\n",
    "file_name_read = \"test1.txt\"\n",
    "\n",
    "print(f\"\\nReading entire content from '{file_name_read}' using .read():\")\n",
    "try:\n",
    "    with open(file_name_read, 'r') as file:\n",
    "        content = file.read()\n",
    "        print(content)\n",
    "except FileNotFoundError:\n",
    "    print(f\"Error: File '{file_name_read}' not found.\")\n",
    "\n",
    "\n",
    "# Example: Reading line by line using .readline()\n",
    "print(f\"\\nReading line by line from '{file_name_read}' using .readline():\")\n",
    "try:\n",
    "    with open(file_name_read, 'r') as file:\n",
    "        line1 = file.readline()\n",
    "        line2 = file.readline()\n",
    "        line3 = file.readline()\n",
    "        line4 = file.readline() # Will be an empty string if no more lines\n",
    "        print(f\"Line 1: {line1.strip()}\") # .strip() removes leading/trailing whitespace, including newline\n",
    "        print(f\"Line 2: {line2.strip()}\")\n",
    "        print(f\"Line 3: {line3.strip()}\")\n",
    "        print(f\"Line 4 (empty if EOF): '{line4}'\")\n",
    "except FileNotFoundError:\n",
    "    print(f\"Error: File '{file_name_read}' not found.\")\n",
    "\n",
    "\n",
    "# Example: Reading all lines into a list using .readlines()\n",
    "print(f\"\\nReading all lines into a list from '{file_name_read}' using .readlines():\")\n",
    "try:\n",
    "    with open(file_name_read, 'r') as file:\n",
    "        all_lines = file.readlines()\n",
    "        print(f\"Type of all_lines: {type(all_lines)}\")\n",
    "        for i, line in enumerate(all_lines):\n",
    "            print(f\"Line {i+1}: {line.strip()}\")\n",
    "except FileNotFoundError:\n",
    "    print(f\"Error: File '{file_name_read}' not found.\")\n",
    "\n",
    "\n",
    "# Example: Iterating line by line (most common and efficient for large files)\n",
    "print(f\"\\nIterating line by line from '{file_name_read}':\")\n",
    "try:\n",
    "    with open(file_name_read, 'r') as file:\n",
    "        for line_num, line in enumerate(file):\n",
    "            print(f\"Line {line_num+1}: {line.strip()}\")\n",
    "except FileNotFoundError:\n",
    "    print(f\"Error: File '{file_name_read}' not found.\")"
   ]
  },
  {
   "cell_type": "markdown",
   "metadata": {},
   "source": [
    "### 1.5 Appending to Files\n",
    "\n",
    "The append mode (`'a'`) allows you to add new content to the end of an existing file without deleting its original content. If the file doesn't exist, it will be created."
   ]
  },
  {
   "cell_type": "code",
   "execution_count": null,
   "metadata": {},
   "outputs": [],
   "source": [
    "# Example: Appending to the file\n",
    "file_name_append = \"test1.txt\"\n",
    "\n",
    "print(f\"\\nAppending new content to '{file_name_append}' in 'a' (append) mode.\")\n",
    "with open(file_name_append, 'a') as file:\n",
    "    file.write(\"\\nThis line was appended.\\n\")\n",
    "    file.write(\"And this is another appended line.\")\n",
    "\n",
    "print(f\"Content successfully appended to '{file_name_append}'.\")\n",
    "\n",
    "# Verify the appended content by reading the file again\n",
    "print(f\"\\nReading '{file_name_append}' after appending:\")\n",
    "try:\n",
    "    with open(file_name_append, 'r') as file:\n",
    "        print(file.read())\n",
    "except FileNotFoundError:\n",
    "    print(f\"Error: File '{file_name_append}' not found.\")"
   ]
  },
  {
   "cell_type": "markdown",
   "metadata": {},
   "source": [
    "---"
   ]
  },
  {
   "cell_type": "markdown",
   "metadata": {},
   "source": [
    "## 2. Data Structures\n",
    "\n",
    "### What You Will Learn:\n",
    "- Gain proficiency in working with Python data structures, including lists, tuples, sets, and dictionaries.\n",
    "- Learn to perform basic operations like indexing, slicing, concatenation, and modification on various data structures.\n",
    "- Become familiar with the immutability of tuples and the mutability of lists, sets, and dictionaries.\n",
    "- Recognize the distinctions between different data structures in terms of their features and functionalities."
   ]
  },
  {
   "cell_type": "markdown",
   "metadata": {},
   "source": [
    "### 2.1 Lists\n",
    "\n",
    "A **list** is a mutable (changeable) ordered collection of items. Lists can contain mixed data types. They are defined using square brackets `[]`."
   ]
  },
  {
   "cell_type": "code",
   "execution_count": null,
   "metadata": {},
   "outputs": [],
   "source": [
    "# Definition and Syntax\n",
    "myList = [1, \"hello\", 3.14, True, 5]\n",
    "print(f\"My List: {myList}\")\n",
    "\n",
    "# Common Operations\n",
    "print(f\"Length of myList: {len(myList)}\") # Returns the number of elements\n",
    "print(f\"Type of myList: {type(myList)}\") # Returns the type of the list\n",
    "\n",
    "# Indexing and Slicing\n",
    "print(f\"First item (index 0): {myList[0]}\") # Returns the first item\n",
    "print(f\"Last item (negative index): {myList[-1]}\") # Returns the last item\n",
    "print(f\"Items from index 1 to 2 (exclusive of 3): {myList[1:3]}\") # Returns a sublist\n",
    "print(f\"Items from beginning to index 3: {myList[:4]}\")\n",
    "print(f\"Items from index 2 to end: {myList[2:]}\")\n",
    "print(f\"All items (copy): {myList[:]}\")\n",
    "\n",
    "# Modifying Lists (Lists are mutable)\n",
    "myList[0] = 100 # Change an item by index\n",
    "print(f\"List after modifying first item: {myList}\")\n",
    "\n",
    "# List Methods\n",
    "myList.append(6) # Adds an item to the end of the list\n",
    "print(f\"List after append(6): {myList}\")\n",
    "\n",
    "myList.insert(1, \"new_item\") # Adds an item at a specific index\n",
    "print(f\"List after insert(1, 'new_item'): {myList}\")\n",
    "\n",
    "anotherList = [7, 8]\n",
    "myList.extend(anotherList) # Adds multiple items (or a list) to the end\n",
    "print(f\"List after extend([7, 8]): {myList}\")\n",
    "\n",
    "myList.remove(\"new_item\") # Removes a specific item by value (first occurrence)\n",
    "print(f\"List after remove('new_item'): {myList}\")\n",
    "\n",
    "popped_item = myList.pop() # Removes and returns the last item if no index specified\n",
    "print(f\"List after pop(): {myList}, Popped item: {popped_item}\")\n",
    "\n",
    "popped_item_at_index = myList.pop(1) # Removes and returns item at specified index\n",
    "print(f\"List after pop(1): {myList}, Popped item at index 1: {popped_item_at_index}\")\n",
    "\n",
    "myList.clear() # Removes all items from the list\n",
    "print(f\"List after clear(): {myList}\")\n",
    "\n",
    "# Concatenation and Repetition\n",
    "list1 = [1, 2]\n",
    "list2 = [3, 4]\n",
    "combined_list = list1 + list2 # Combines two lists\n",
    "print(f\"Concatenated list: {combined_list}\")\n",
    "\n",
    "repeated_list = list1 * 3 # Duplicates the list n times\n",
    "print(f\"Repeated list: {repeated_list}\")"
   ]
  },
  {
   "cell_type": "markdown",
   "metadata": {},
   "source": [
    "### 2.2 Tuples\n",
    "\n",
    "A **tuple** is an immutable (unchangeable) ordered collection of items. Tuples can also contain mixed data types. They are defined using parentheses `()`."
   ]
  },
  {
   "cell_type": "code",
   "execution_count": null,
   "metadata": {},
   "outputs": [],
   "source": [
    "# Definition and Syntax\n",
    "myTuple = (1, \"hello\", 3.14, False)\n",
    "print(f\"My Tuple: {myTuple}\")\n",
    "\n",
    "# Common Operations (similar to lists for reading)\n",
    "print(f\"Length of myTuple: {len(myTuple)}\")\n",
    "print(f\"Type of myTuple: {type(myTuple)}\")\n",
    "\n",
    "# Indexing and Slicing\n",
    "print(f\"First item: {myTuple[0]}\")\n",
    "print(f\"Last item: {myTuple[-1]}\")\n",
    "print(f\"Slice: {myTuple[1:3]}\")\n",
    "\n",
    "# Immutability: Cannot modify items after creation\n",
    "try:\n",
    "    # myTuple[0] = 100 # Uncommenting this will raise a TypeError\n",
    "    print(\"Attempting to modify a tuple will result in a TypeError.\")\n",
    "except TypeError as e:\n",
    "    print(f\"Error: {e}\")\n",
    "\n",
    "# Concatenation and Repetition (create new tuples)\n",
    "tuple1 = (1, 2)\n",
    "tuple2 = (3, 4)\n",
    "combined_tuple = tuple1 + tuple2\n",
    "print(f\"Concatenated tuple: {combined_tuple}\")\n",
    "\n",
    "repeated_tuple = tuple1 * 3\n",
    "print(f\"Repeated tuple: {repeated_tuple}\")\n",
    "\n",
    "# When to use Tuples:\n",
    "# - When you need to ensure data integrity (data won't change).\n",
    "# - For heterogeneous (mixed) data where order matters, like coordinates (x, y) or a record (name, age, city).\n",
    "# - As dictionary keys (because they are immutable).\n",
    "# - For function arguments that are fixed."
   ]
  },
  {
   "cell_type": "markdown",
   "metadata": {},
   "source": [
    "### 2.3 Sets\n",
    "\n",
    "A **set** is an unordered collection of unique (non-duplicate) items. Sets are mutable. They are defined using curly braces `{}` or the `set()` constructor."
   ]
  },
  {
   "cell_type": "code",
   "execution_count": null,
   "metadata": {},
   "outputs": [],
   "source": [
    "# Definition and Syntax\n",
    "mySet = {1, 2, 3, 2, 1} # Duplicate values are automatically removed\n",
    "print(f\"My Set: {mySet}\")\n",
    "\n",
    "anotherSet = set([4, 5, 6, 5]) # Creating a set from a list\n",
    "print(f\"Another Set: {anotherSet}\")\n",
    "\n",
    "# Common Operations\n",
    "print(f\"Length of mySet: {len(mySet)}\")\n",
    "print(f\"Type of mySet: {type(mySet)}\")\n",
    "\n",
    "# Adding and Removing Elements\n",
    "mySet.add(4) # Add a single element\n",
    "print(f\"Set after add(4): {mySet}\")\n",
    "\n",
    "mySet.remove(2) # Remove a specific element (raises KeyError if not found)\n",
    "print(f\"Set after remove(2): {mySet}\")\n",
    "\n",
    "mySet.discard(10) # Remove an element if present (does not raise error if not found)\n",
    "print(f\"Set after discard(10): {mySet}\")\n",
    "\n",
    "popped_item = mySet.pop() # Removes and returns an arbitrary element\n",
    "print(f\"Set after pop(): {mySet}, Popped item: {popped_item}\")\n",
    "\n",
    "mySet.clear() # Removes all elements\n",
    "print(f\"Set after clear(): {mySet}\")\n",
    "\n",
    "# Set Operations (Union, Intersection, Difference)\n",
    "set_a = {1, 2, 3, 4}\n",
    "set_b = {3, 4, 5, 6}\n",
    "\n",
    "print(f\"\\nSet A: {set_a}, Set B: {set_b}\")\n",
    "print(f\"Union (A | B): {set_a.union(set_b)}\") # Elements in A or B or both\n",
    "print(f\"Intersection (A & B): {set_a.intersection(set_b)}\") # Elements common to A and B\n",
    "print(f\"Difference (A - B): {set_a.difference(set_b)}\") # Elements in A but not in B\n",
    "print(f\"Symmetric Difference (A ^ B): {set_a.symmetric_difference(set_b)}\") # Elements in A or B but not both\n",
    "\n",
    "# Use Cases for Sets:\n",
    "# - Removing duplicates from a list: `list(set(my_list))`\n",
    "# - Membership testing (very fast): `if element in my_set:`\n",
    "# - Mathematical set operations."
   ]
  },
  {
   "cell_type": "markdown",
   "metadata": {},
   "source": [
    "### 2.4 Dictionaries\n",
    "\n",
    "A **dictionary** is a mutable unordered collection of key-value pairs. Each key must be unique and immutable (e.g., strings, numbers, tuples), while values can be of any data type and can be duplicated. Dictionaries are defined using curly braces `{}` with key-value pairs separated by colons `:`."
   ]
  },
  {
   "cell_type": "code",
   "execution_count": null,
   "metadata": {},
   "outputs": [],
   "source": [
    "# Definition and Syntax\n",
    "myDict = {\"name\": \"Alice\", \"age\": 30, \"city\": \"New York\"}\n",
    "print(f\"My Dictionary: {myDict}\")\n",
    "\n",
    "# Creating an empty dictionary\n",
    "empty_dict = {}\n",
    "print(f\"Empty Dictionary: {empty_dict}\")\n",
    "\n",
    "# Common Operations\n",
    "print(f\"Length of myDict: {len(myDict)}\")\n",
    "print(f\"Type of myDict: {type(myDict)}\")\n",
    "\n",
    "# Accessing Values\n",
    "print(f\"Name: {myDict['name']}\") # Access value using key\n",
    "print(f\"Age: {myDict.get('age')}\") # Safer way to access; returns None if key not found\n",
    "print(f\"Country (using get with default): {myDict.get('country', 'Unknown')}\")\n",
    "\n",
    "# Adding and Modifying Entries\n",
    "myDict['email'] = \"alice@example.com\" # Add a new key-value pair\n",
    "print(f\"Dict after adding email: {myDict}\")\n",
    "\n",
    "myDict['age'] = 31 # Modify an existing value\n",
    "print(f\"Dict after updating age: {myDict}\")\n",
    "\n",
    "# Deleting Entries\n",
    "del myDict['city'] # Delete by key\n",
    "print(f\"Dict after deleting city: {myDict}\")\n",
    "\n",
    "popped_value = myDict.pop('email') # Removes and returns the value for a given key\n",
    "print(f\"Dict after pop('email'): {myDict}, Popped value: {popped_value}\")\n",
    "\n",
    "# Dictionary Methods\n",
    "print(f\"Keys: {myDict.keys()}\") # Returns a view object of all keys\n",
    "print(f\"Values: {myDict.values()}\") # Returns a view object of all values\n",
    "print(f\"Items: {myDict.items()}\") # Returns a view object of all key-value pairs (tuples)\n",
    "\n",
    "# Iterating through Dictionaries\n",
    "print(\"\\nIterating through keys:\")\n",
    "for key in myDict:\n",
    "    print(key)\n",
    "\n",
    "print(\"\\nIterating through values:\")\n",
    "for value in myDict.values():\n",
    "    print(value)\n",
    "\n",
    "print(\"\\nIterating through key-value pairs:\")\n",
    "for key, value in myDict.items():\n",
    "    print(f\"{key}: {value}\")\n",
    "\n",
    "# Use Cases for Dictionaries:\n",
    "# - Representing structured data (e.g., JSON-like objects).\n",
    "# - Fast lookups by key.\n",
    "# - Counting frequencies of items."
   ]
  },
  {
   "cell_type": "markdown",
   "metadata": {},
   "source": [
    "---"
   ]
  },
  {
   "cell_type": "markdown",
   "metadata": {},
   "source": [
    "## 3. Exception Handling\n",
    "\n",
    "### What You Will Learn:\n",
    "- Understanding Exception Handling.\n",
    "- Usage of `try-except` for error management.\n",
    "- Introduction to `else` and `finally` clauses in Exception Handling.\n",
    "- Detailed Error Tracing."
   ]
  },
  {
   "cell_type": "markdown",
   "metadata": {},
   "source": [
    "### 3.1 Introduction to Exception Handling\n",
    "\n",
    "In programming, errors can occur during the execution of a program. These errors are called **exceptions**. Exception handling is a mechanism that allows you to gracefully manage these runtime errors, preventing your program from crashing and providing a more robust user experience.\n",
    "\n",
    "-   The `try-except` block is used to handle errors and exceptions that may occur during the execution of code.\n",
    "-   It allows you to define actions to take in the event of an error, avoiding program crashes.\n",
    "-   **Limitations of `try-except`:** Syntax errors (errors detected by the Python interpreter before execution, like typos or incorrect grammar) cannot be caught using `try-except`. These errors must be fixed directly in the code."
   ]
  },
  {
   "cell_type": "code",
   "execution_count": null,
   "metadata": {},
   "outputs": [],
   "source": [
    "# Example of a runtime error (without try-except)\n",
    "# print(10 / 0) # This would cause a ZeroDivisionError and crash the program\n",
    "\n",
    "# Example of a syntax error (cannot be caught by try-except)\n",
    "# prin(\"Hello\") # This is a SyntaxError because 'prin' is not a valid function\n",
    "\n",
    "print(\"Syntax errors must be fixed in the code; they prevent execution.\")\n",
    "print(\"Runtime errors (exceptions) can be handled using try-except.\")"
   ]
  },
  {
   "cell_type": "markdown",
   "metadata": {},
   "source": [
    "### 3.2 Basic `try-except` Example\n",
    "\n",
    "The `try` block contains the code that might raise an exception. The `except` block contains the code that will be executed if an exception occurs in the `try` block."
   ]
  },
  {
   "cell_type": "code",
   "execution_count": null,
   "metadata": {},
   "outputs": [],
   "source": [
    "# Code Example 1: Handling a specific exception (ZeroDivisionError)\n",
    "print(\"--- Example 1: Division by Zero ---\")\n",
    "try:\n",
    "    numerator = 10\n",
    "    denominator = 0\n",
    "    result = numerator / denominator # This line will raise a ZeroDivisionError\n",
    "    print(f\"Result: {result}\") # This line will not be executed\n",
    "except ZeroDivisionError:\n",
    "    print(\"Error: Cannot divide by zero!\")\n",
    "\n",
    "print(\"Program continues after handling the error.\")\n",
    "\n",
    "# Code Example 2: Handling a generic exception (Exception as e)\n",
    "print(\"\\n--- Example 2: Invalid input for integer conversion ---\")\n",
    "try:\n",
    "    user_input = input(\"Enter a number: \")\n",
    "    number = int(user_input) # This might raise a ValueError if input is not a number\n",
    "    print(f\"You entered: {number}\")\n",
    "except ValueError as e: # Catching a specific ValueError\n",
    "    print(f\"Invalid input! Please enter a valid integer. Details: {e}\")\n",
    "except Exception as e: # Catching any other unexpected exception\n",
    "    print(f\"An unexpected error occurred: {e}\")\n",
    "\n",
    "print(\"Program continues after handling input error.\")"
   ]
  },
  {
   "cell_type": "markdown",
   "metadata": {},
   "source": [
    "### 3.3 Handling Multiple Exceptions\n",
    "\n",
    "You can have multiple `except` blocks to handle different types of exceptions. Python will try to match the exception that occurred with the first matching `except` block, from top to bottom."
   ]
  },
  {
   "cell_type": "code",
   "execution_count": null,
   "metadata": {},
   "outputs": [],
   "source": [
    "print(\"--- Handling Multiple Exceptions ---\")\n",
    "def safe_operation(data_list, index, divisor):\n",
    "    try:\n",
    "        value = data_list[index]\n",
    "        result = value / divisor\n",
    "        print(f\"Result of operation: {result}\")\n",
    "    except IndexError: # Handles if index is out of bounds\n",
    "        print(\"Error: Index is out of range.\")\n",
    "    except ZeroDivisionError: # Handles if divisor is zero\n",
    "        print(\"Error: Division by zero is not allowed.\")\n",
    "    except TypeError: # Handles if value or divisor are not numbers\n",
    "        print(\"Error: Incompatible data types for operation.\")\n",
    "    except Exception as e: # Catches any other unhandled exception\n",
    "        print(f\"An unexpected error occurred: {e}\")\n",
    "\n",
    "my_list = [10, 20, 'a', 40]\n",
    "\n",
    "safe_operation(my_list, 1, 2) # Valid: 20 / 2 = 10.0\n",
    "safe_operation(my_list, 5, 2) # IndexError\n",
    "safe_operation(my_list, 0, 0) # ZeroDivisionError\n",
    "safe_operation(my_list, 2, 2) # TypeError (trying to divide 'a' by 2)\n",
    "safe_operation(None, 0, 1) # Another TypeError (NoneType object is not subscriptable)"
   ]
  },
  {
   "cell_type": "markdown",
   "metadata": {},
   "source": [
    "### 3.4 The `else` Clause in Exception Handling\n",
    "\n",
    "The `else` block in a `try-except` statement is executed **only if the `try` block completes successfully without raising any exceptions.** It's useful for code that should run only when no errors occur."
   ]
  },
  {
   "cell_type": "code",
   "execution_count": null,
   "metadata": {},
   "outputs": [],
   "source": [
    "print(\"--- Using the else Clause ---\")\n",
    "\n",
    "def get_user_age():\n",
    "    try:\n",
    "        age_str = input(\"Please enter your age: \")\n",
    "        age = int(age_str)\n",
    "    except ValueError:\n",
    "        print(\"That's not a valid number for age.\")\n",
    "    else:\n",
    "        # This code runs ONLY if no ValueError occurred in the try block\n",
    "        print(f\"Your age is {age}.\")\n",
    "        if age < 18:\n",
    "            print(\"You are a minor.\")\n",
    "        else:\n",
    "            print(\"You are an adult.\")\n",
    "\n",
    "get_user_age() # Test with valid input (e.g., 25)\n",
    "get_user_age() # Test with invalid input (e.g., 'abc')"
   ]
  },
  {
   "cell_type": "markdown",
   "metadata": {},
   "source": [
    "### 3.5 The `finally` Clause in Exception Handling\n",
    "\n",
    "The `finally` block is executed **always**, regardless of whether an exception occurred in the `try` block or not, and regardless of whether it was handled by an `except` block. It's typically used for cleanup operations, such as closing files or releasing resources, that must happen irrespective of the program's outcome."
   ]
  },
  {
   "cell_type": "code",
   "execution_count": null,
   "metadata": {},
   "outputs": [],
   "source": [
    "print(\"--- Using the finally Clause ---\")\n",
    "\n",
    "def divide_numbers_with_cleanup(x, y):\n",
    "    file_handle = None # Initialize to None\n",
    "    try:\n",
    "        file_handle = open(\"log.txt\", \"a\") # Imagine opening a resource\n",
    "        result = x / y\n",
    "        print(f\"Division result: {result}\")\n",
    "        file_handle.write(f\"Division successful: {x}/{y} = {result}\\n\")\n",
    "    except ZeroDivisionError:\n",
    "        print(\"Error: Cannot divide by zero in divide_numbers_with_cleanup.\")\n",
    "        if file_handle: # Check if file was opened before writing\n",
    "            file_handle.write(f\"Division failed: {x}/{y} - ZeroDivisionError\\n\")\n",
    "    except TypeError:\n",
    "        print(\"Error: Invalid types for division in divide_numbers_with_cleanup.\")\n",
    "        if file_handle:\n",
    "            file_handle.write(f\"Division failed: {x}/{y} - TypeError\\n\")\n",
    "    finally:\n",
    "        # This block always executes\n",
    "        if file_handle: # Ensure file_handle exists and is open before closing\n",
    "            file_handle.close()\n",
    "            print(\"File 'log.txt' closed in finally block.\")\n",
    "        print(\"Cleanup complete.\")\n",
    "\n",
    "divide_numbers_with_cleanup(10, 2) # No exception\n",
    "print(\"\\n\")\n",
    "divide_numbers_with_cleanup(10, 0) # ZeroDivisionError\n",
    "print(\"\\n\")\n",
    "divide_numbers_with_cleanup(\"a\", 2) # TypeError"
   ]
  },
  {
   "cell_type": "markdown",
   "metadata": {},
   "source": [
    "### 3.6 Differences Between `else` and `finally`\n",
    "\n",
    "| Feature      | `else` Clause                                    | `finally` Clause                               |\n",
    "| :----------- | :----------------------------------------------- | :--------------------------------------------- |\n",
    "| **Execution**| Executes **only if** the `try` block completes successfully (no exception occurs). | Executes **always**, regardless of whether an exception occurred or was handled. |\n",
    "| **Purpose** | Contains code that should run when the `try` block is error-free. | Contains cleanup code (e.g., closing files, releasing network connections). |\n",
    "| **Placement**| Comes after all `except` blocks.                 | Comes after `try`, `except`, and `else` blocks. |\n",
    "| **Relationship**| Directly tied to the success of the `try` block. | Independent of the `try` block's success or failure. |\n",
    "\n",
    "You can use `try`, `except`, `else`, and `finally` together in a single block."
   ]
  },
  {
   "cell_type": "code",
   "execution_count": null,
   "metadata": {},
   "outputs": [],
   "source": [
    "print(\"--- Combined try-except-else-finally Example ---\")\n",
    "\n",
    "def process_data(data, operation):\n",
    "    try:\n",
    "        if operation == 'divide':\n",
    "            result = 100 / data\n",
    "        elif operation == 'access':\n",
    "            result = data[0]\n",
    "        else:\n",
    "            raise ValueError(\"Unknown operation\")\n",
    "    except ZeroDivisionError:\n",
    "        print(\"Caught: Division by zero error.\")\n",
    "    except IndexError:\n",
    "        print(\"Caught: Index out of bounds error.\")\n",
    "    except TypeError:\n",
    "        print(\"Caught: Type error for operation.\")\n",
    "    except ValueError as e:\n",
    "        print(f\"Caught: {e}\")\n",
    "    except Exception as e:\n",
    "        print(f\"Caught: An unexpected error occurred: {e}\")\n",
    "    else:\n",
    "        # This runs only if NO exception occurred in the try block\n",
    "        print(f\"Operation successful! Result: {result}\")\n",
    "    finally:\n",
    "        # This always runs\n",
    "        print(\"--- End of process_data attempt ---\\n\")\n",
    "\n",
    "process_data(5, 'divide')       # Success, else runs\n",
    "process_data(0, 'divide')       # ZeroDivisionError, finally runs\n",
    "process_data([], 'access')      # IndexError, finally runs\n",
    "process_data(10, 'unknown')     # ValueError, finally runs\n",
    "process_data(None, 'access')    # TypeError, finally runs"
   ]
  },
  {
   "cell_type": "markdown",
   "metadata": {},
   "source": [
    "### 3.7 Detailed Error Tracing (Traceback)\n",
    "\n",
    "When an unhandled exception occurs in Python, the interpreter prints a **traceback**. A traceback is a report that provides a detailed summary of where the error occurred in your code, including the sequence of function calls that led to the error. Understanding how to read tracebacks is crucial for debugging your programs.\n",
    "\n",
    "Key parts of a traceback:\n",
    "\n",
    "-   **\"Traceback (most recent call last):\"**: Indicates the start of the traceback.\n",
    "-   **File and Line Number**: Points to the exact file and line number where the error occurred.\n",
    "-   **Module/Function Call Stack**: Shows the sequence of function calls leading up to the error, from the outermost call to the innermost. This helps you trace the flow of execution.\n",
    "-   **Error Type**: The type of exception that occurred (e.g., `NameError`, `TypeError`, `ZeroDivisionError`).\n",
    "-   **Error Message**: A brief description of the error.\n",
    "\n",
    "Let's intentionally create an error to see a traceback."
   ]
  },
  {
   "cell_type": "code",
   "execution_count": null,
   "metadata": {},
   "outputs": [],
   "source": [
    "def func_c():\n",
    "    print(x) # x is not defined here, will cause NameError\n",
    "\n",
    "def func_b():\n",
    "    func_c()\n",
    "\n",
    "def func_a():\n",
    "    func_b()\n",
    "\n",
    "# Uncomment the line below to see the traceback\n",
    "# func_a()\n",
    "\n",
    "print(\"Uncomment `func_a()` above to see an example of a NameError traceback.\")\n",
    "print(\"The traceback will show the call stack from `func_a` to `func_b` to `func_c`,\")\n",
    "print(\"and finally pinpoint the line in `func_c` where 'x' was used before being defined.\")"
   ]
  },
  {
   "cell_type": "markdown",
   "metadata": {},
   "source": [
    "---"
   ]
  },
  {
   "cell_type": "markdown",
   "metadata": {},
   "source": [
    "## Conclusion\n",
    "\n",
    "This notebook has provided a thorough overview of Python's file handling capabilities, fundamental data structures (lists, tuples, sets, dictionaries), and essential exception handling techniques. Mastering these concepts is vital for developing robust, efficient, and user-friendly Python applications. Continue practicing by building small projects that utilize these features."
   ]
  }
 ],
 "metadata": {
  "kernelspec": {
   "display_name": "Python 3",
   "language": "python",
   "name": "python3"
  },
  "language_info": {
   "codemirror_mode": {
    "name": "ipython",
    "version": 3
   },
   "file_extension": ".py",
   "mimetype": "text/x-python",
   "name": "python",
   "nbconvert_exporter": "python",
   "pygments_lexer": "ipython3",
   "version": "3.9.7"
  }
 },
 "nbformat": 4,
 "nbformat_minor": 4
}
